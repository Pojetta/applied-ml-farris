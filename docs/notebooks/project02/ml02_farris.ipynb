
You can view the full Jupyter notebook for this project [here](../notebooks/project02/ml02_farris.ipynb).

                                                 ../notebooks/project02/ml02_farris.ipynb
/Users/joannafarris/Projects/applied-ml-farris/docs/notebooks/project02/ml02_farris.ipynb
/Users/joannafarris/Projects/applied-ml-farris
                               
    /notebooks/project01/ml01_farris.ipynb
    /notebooks/project02/ml02_farris.ipynb                                                 

    notebooks/project01/ml01_farris.ipynb
    notebooks/project02/ml02_farris.ipynb
     
    /notebooks/project01/ml01_farris.ipynb
    /notebooks/project02/ml02_farris.ipynb