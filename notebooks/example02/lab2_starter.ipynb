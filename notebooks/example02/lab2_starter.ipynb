{
 "cells": [
  {
   "cell_type": "markdown",
   "metadata": {},
   "source": [
    "# Lab 2 - Exploring and manipulating data. \n",
    "Here is what we we do:\n",
    "1. Read in the data from a CSV file and do simple visualizations\n",
    "2. Look for patterns in the data\n",
    "3. Deal with missing values\n",
    "4. Add in new features\n",
    "5. Split and graph"
   ]
  },
  {
   "cell_type": "code",
   "execution_count": 2,
   "metadata": {},
   "outputs": [],
   "source": [
    "# imports\n",
    "\n",
    "from pathlib import Path\n",
    "\n",
    "import pandas as pd"
   ]
  },
  {
   "cell_type": "markdown",
   "metadata": {},
   "source": [
    "### Read the CSV file:\n",
    "We will use info() on the data frame to get a first look.  This is mostly a quick sanity check"
   ]
  },
  {
   "cell_type": "code",
   "execution_count": 3,
   "metadata": {},
   "outputs": [
    {
     "ename": "NameError",
     "evalue": "name '__file__' is not defined",
     "output_type": "error",
     "traceback": [
      "\u001b[31m---------------------------------------------------------------------------\u001b[39m",
      "\u001b[31mNameError\u001b[39m                                 Traceback (most recent call last)",
      "\u001b[36mCell\u001b[39m\u001b[36m \u001b[39m\u001b[32mIn[3]\u001b[39m\u001b[32m, line 2\u001b[39m\n\u001b[32m      1\u001b[39m \u001b[38;5;66;03m# Load Howell.csv from the same folder as this file\u001b[39;00m\n\u001b[32m----> \u001b[39m\u001b[32m2\u001b[39m data_path: Path = Path(\u001b[34;43m__file__\u001b[39;49m).parent / \u001b[33m\"\u001b[39m\u001b[33mHowell.csv\u001b[39m\u001b[33m\"\u001b[39m\n\u001b[32m      3\u001b[39m howell_full: pd.DataFrame = pd.read_csv(data_path)\n",
      "\u001b[31mNameError\u001b[39m: name '__file__' is not defined"
     ]
    }
   ],
   "source": [
    "# Load Howell.csv from the same folder as this file\n",
    "data_path: Path = Path(__file__).parent / \"Howell.csv\"\n",
    "howell_full: pd.DataFrame = pd.read_csv(data_path)"
   ]
  },
  {
   "cell_type": "markdown",
   "metadata": {},
   "source": [
    "### Quick look at distributions:"
   ]
  },
  {
   "cell_type": "markdown",
   "metadata": {},
   "source": [
    "### Quick Visualization"
   ]
  },
  {
   "cell_type": "markdown",
   "metadata": {},
   "source": [
    "### A Better Plot"
   ]
  },
  {
   "cell_type": "markdown",
   "metadata": {},
   "source": [
    "### Handling Missing Data\n",
    "In our case we have no missing data, so the code here is just for reference."
   ]
  },
  {
   "cell_type": "code",
   "execution_count": null,
   "metadata": {},
   "outputs": [],
   "source": [
    "# create a new feature with the name new\n",
    "howell_full[\"new\"] = howell_full[\"male\"] + howell_full[\"age\"]\n",
    "howell_full.info()\n",
    "\n",
    "# get rid of the new feature\n",
    "howell_full.drop(axis=\"columns\", labels=\"new\", inplace=True)\n",
    "howell_full.info()\n",
    "\n",
    "# remove rows that are missing values\n",
    "howell_full.dropna(axis=\"index\", how=\"any\", inplace=True)\n",
    "\n",
    "height_median = howell_full[\"height\"].median()\n",
    "weight_average = howell_full[\"weight\"].mean()\n",
    "\n",
    "# replace missing values by median or average (or any arbitrary value)\n",
    "howell_full[\"height\"].fillna(height_median, inplace=True)\n",
    "howell_full[\"weight\"].fillna(weight_average, inplace=True)\n",
    "howell_full.info()"
   ]
  },
  {
   "cell_type": "markdown",
   "metadata": {},
   "source": [
    "### Adding a New Feature"
   ]
  },
  {
   "cell_type": "markdown",
   "metadata": {},
   "source": [
    "### Creating a categorical feature\n",
    "When doing a stratefied sampling, we need a feature that is categorical.  In other words, a feature that has a limited number of values. BMI is continuous.  We probably do not have very many instances that share the same BMI.  BMI already has some arbitraily determined categories:\n",
    "    - Underweight less than 18.5\n",
    "    - Normal range of 18.5 to 25.0\n",
    "    - Overwieght range of 25.0 to 30.0\n",
    "    - Obese greater than 30\n",
    "    \n",
    "Unlike the BMI function, IF does not get applied across an array, so we need to create a version of the function that will."
   ]
  },
  {
   "cell_type": "markdown",
   "metadata": {},
   "source": [
    "### Splitting the Data by Age"
   ]
  },
  {
   "cell_type": "markdown",
   "metadata": {},
   "source": [
    "### Plot with Masking\n",
    "Another way to restrict the instances you use is to apply masking to a numpy array. We replace certain values in the array with a mask. (This is not a NaN... the value is still there, it just won't be used.)\n",
    "\n",
    "In this plot we are only using the adult instances (howell_adult) and we are going to create masks for male and female  (male is 1 or 0)"
   ]
  },
  {
   "cell_type": "markdown",
   "metadata": {},
   "source": [
    "### Train/Test Data Split"
   ]
  },
  {
   "cell_type": "markdown",
   "metadata": {},
   "source": [
    "### Stratified Test/Train Data Split"
   ]
  }
 ],
 "metadata": {
  "kernelspec": {
   "display_name": "applied-ml-farris",
   "language": "python",
   "name": "python3"
  },
  "language_info": {
   "codemirror_mode": {
    "name": "ipython",
    "version": 3
   },
   "file_extension": ".py",
   "mimetype": "text/x-python",
   "name": "python",
   "nbconvert_exporter": "python",
   "pygments_lexer": "ipython3",
   "version": "3.12.12"
  }
 },
 "nbformat": 4,
 "nbformat_minor": 4
}
